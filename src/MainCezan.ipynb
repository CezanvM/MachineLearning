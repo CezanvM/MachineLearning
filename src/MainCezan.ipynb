{
 "cells": [
  {
   "cell_type": "markdown",
   "metadata": {},
   "source": [
    "# 1 Apple store application rating prediction\n"
   ]
  },
  {
   "cell_type": "code",
   "execution_count": 341,
   "metadata": {},
   "outputs": [],
   "source": [
    "# Some intro text? "
   ]
  },
  {
   "cell_type": "markdown",
   "metadata": {},
   "source": [
    "All needed imports for the whole project can be found below"
   ]
  },
  {
   "cell_type": "code",
   "execution_count": 342,
   "metadata": {},
   "outputs": [],
   "source": [
    "# place imports here\n",
    "%matplotlib inline\n",
    "import matplotlib.pyplot as plt\n",
    "import pandas as pd\n",
    "import numpy as np\n",
    "\n",
    "from keras.models import Sequential\n",
    "from keras.layers import Dense\n",
    "from keras.optimizers import Adam, SGD\n",
    "from keras.utils.np_utils import to_categorical\n",
    "\n",
    "from sklearn.preprocessing import StandardScaler\n",
    "from sklearn.preprocessing import MinMaxScaler"
   ]
  },
  {
   "cell_type": "code",
   "execution_count": null,
   "metadata": {},
   "outputs": [],
   "source": []
  },
  {
   "cell_type": "markdown",
   "metadata": {},
   "source": [
    "First we load in our dataset and look if the data is loaded correctly."
   ]
  },
  {
   "cell_type": "code",
   "execution_count": 343,
   "metadata": {},
   "outputs": [
    {
     "data": {
      "text/html": [
       "<div>\n",
       "<table border=\"1\" class=\"dataframe\">\n",
       "  <thead>\n",
       "    <tr style=\"text-align: right;\">\n",
       "      <th></th>\n",
       "      <th>Unnamed: 0</th>\n",
       "      <th>id</th>\n",
       "      <th>track_name</th>\n",
       "      <th>size_bytes</th>\n",
       "      <th>currency</th>\n",
       "      <th>price</th>\n",
       "      <th>rating_count_tot</th>\n",
       "      <th>rating_count_ver</th>\n",
       "      <th>user_rating</th>\n",
       "      <th>user_rating_ver</th>\n",
       "      <th>ver</th>\n",
       "      <th>cont_rating</th>\n",
       "      <th>prime_genre</th>\n",
       "      <th>sup_devices.num</th>\n",
       "      <th>ipadSc_urls.num</th>\n",
       "      <th>lang.num</th>\n",
       "      <th>vpp_lic</th>\n",
       "    </tr>\n",
       "  </thead>\n",
       "  <tbody>\n",
       "    <tr>\n",
       "      <th>0</th>\n",
       "      <td>1</td>\n",
       "      <td>281656475</td>\n",
       "      <td>PAC-MAN Premium</td>\n",
       "      <td>100788224</td>\n",
       "      <td>USD</td>\n",
       "      <td>3.99</td>\n",
       "      <td>21292</td>\n",
       "      <td>26</td>\n",
       "      <td>4.0</td>\n",
       "      <td>4.5</td>\n",
       "      <td>6.3.5</td>\n",
       "      <td>4+</td>\n",
       "      <td>Games</td>\n",
       "      <td>38</td>\n",
       "      <td>5</td>\n",
       "      <td>10</td>\n",
       "      <td>1</td>\n",
       "    </tr>\n",
       "    <tr>\n",
       "      <th>1</th>\n",
       "      <td>2</td>\n",
       "      <td>281796108</td>\n",
       "      <td>Evernote - stay organized</td>\n",
       "      <td>158578688</td>\n",
       "      <td>USD</td>\n",
       "      <td>0.00</td>\n",
       "      <td>161065</td>\n",
       "      <td>26</td>\n",
       "      <td>4.0</td>\n",
       "      <td>3.5</td>\n",
       "      <td>8.2.2</td>\n",
       "      <td>4+</td>\n",
       "      <td>Productivity</td>\n",
       "      <td>37</td>\n",
       "      <td>5</td>\n",
       "      <td>23</td>\n",
       "      <td>1</td>\n",
       "    </tr>\n",
       "    <tr>\n",
       "      <th>2</th>\n",
       "      <td>3</td>\n",
       "      <td>281940292</td>\n",
       "      <td>WeatherBug - Local Weather, Radar, Maps, Alerts</td>\n",
       "      <td>100524032</td>\n",
       "      <td>USD</td>\n",
       "      <td>0.00</td>\n",
       "      <td>188583</td>\n",
       "      <td>2822</td>\n",
       "      <td>3.5</td>\n",
       "      <td>4.5</td>\n",
       "      <td>5.0.0</td>\n",
       "      <td>4+</td>\n",
       "      <td>Weather</td>\n",
       "      <td>37</td>\n",
       "      <td>5</td>\n",
       "      <td>3</td>\n",
       "      <td>1</td>\n",
       "    </tr>\n",
       "    <tr>\n",
       "      <th>3</th>\n",
       "      <td>4</td>\n",
       "      <td>282614216</td>\n",
       "      <td>eBay: Best App to Buy, Sell, Save! Online Shop...</td>\n",
       "      <td>128512000</td>\n",
       "      <td>USD</td>\n",
       "      <td>0.00</td>\n",
       "      <td>262241</td>\n",
       "      <td>649</td>\n",
       "      <td>4.0</td>\n",
       "      <td>4.5</td>\n",
       "      <td>5.10.0</td>\n",
       "      <td>12+</td>\n",
       "      <td>Shopping</td>\n",
       "      <td>37</td>\n",
       "      <td>5</td>\n",
       "      <td>9</td>\n",
       "      <td>1</td>\n",
       "    </tr>\n",
       "    <tr>\n",
       "      <th>4</th>\n",
       "      <td>5</td>\n",
       "      <td>282935706</td>\n",
       "      <td>Bible</td>\n",
       "      <td>92774400</td>\n",
       "      <td>USD</td>\n",
       "      <td>0.00</td>\n",
       "      <td>985920</td>\n",
       "      <td>5320</td>\n",
       "      <td>4.5</td>\n",
       "      <td>5.0</td>\n",
       "      <td>7.5.1</td>\n",
       "      <td>4+</td>\n",
       "      <td>Reference</td>\n",
       "      <td>37</td>\n",
       "      <td>5</td>\n",
       "      <td>45</td>\n",
       "      <td>1</td>\n",
       "    </tr>\n",
       "  </tbody>\n",
       "</table>\n",
       "</div>"
      ],
      "text/plain": [
       "   Unnamed: 0         id                                         track_name  \\\n",
       "0           1  281656475                                    PAC-MAN Premium   \n",
       "1           2  281796108                          Evernote - stay organized   \n",
       "2           3  281940292    WeatherBug - Local Weather, Radar, Maps, Alerts   \n",
       "3           4  282614216  eBay: Best App to Buy, Sell, Save! Online Shop...   \n",
       "4           5  282935706                                              Bible   \n",
       "\n",
       "   size_bytes currency  price  rating_count_tot  rating_count_ver  \\\n",
       "0   100788224      USD   3.99             21292                26   \n",
       "1   158578688      USD   0.00            161065                26   \n",
       "2   100524032      USD   0.00            188583              2822   \n",
       "3   128512000      USD   0.00            262241               649   \n",
       "4    92774400      USD   0.00            985920              5320   \n",
       "\n",
       "   user_rating  user_rating_ver     ver cont_rating   prime_genre  \\\n",
       "0          4.0              4.5   6.3.5          4+         Games   \n",
       "1          4.0              3.5   8.2.2          4+  Productivity   \n",
       "2          3.5              4.5   5.0.0          4+       Weather   \n",
       "3          4.0              4.5  5.10.0         12+      Shopping   \n",
       "4          4.5              5.0   7.5.1          4+     Reference   \n",
       "\n",
       "   sup_devices.num  ipadSc_urls.num  lang.num  vpp_lic  \n",
       "0               38                5        10        1  \n",
       "1               37                5        23        1  \n",
       "2               37                5         3        1  \n",
       "3               37                5         9        1  \n",
       "4               37                5        45        1  "
      ]
     },
     "execution_count": 343,
     "metadata": {},
     "output_type": "execute_result"
    }
   ],
   "source": [
    "dataset = pd.read_csv('../dataset/AppleStore.csv')\n",
    "dataset.head()"
   ]
  },
  {
   "cell_type": "code",
   "execution_count": 344,
   "metadata": {},
   "outputs": [
    {
     "name": "stdout",
     "output_type": "stream",
     "text": [
      "<class 'pandas.core.frame.DataFrame'>\n",
      "RangeIndex: 7197 entries, 0 to 7196\n",
      "Data columns (total 17 columns):\n",
      "Unnamed: 0          7197 non-null int64\n",
      "id                  7197 non-null int64\n",
      "track_name          7197 non-null object\n",
      "size_bytes          7197 non-null int64\n",
      "currency            7197 non-null object\n",
      "price               7197 non-null float64\n",
      "rating_count_tot    7197 non-null int64\n",
      "rating_count_ver    7197 non-null int64\n",
      "user_rating         7197 non-null float64\n",
      "user_rating_ver     7197 non-null float64\n",
      "ver                 7197 non-null object\n",
      "cont_rating         7197 non-null object\n",
      "prime_genre         7197 non-null object\n",
      "sup_devices.num     7197 non-null int64\n",
      "ipadSc_urls.num     7197 non-null int64\n",
      "lang.num            7197 non-null int64\n",
      "vpp_lic             7197 non-null int64\n",
      "dtypes: float64(3), int64(9), object(5)\n",
      "memory usage: 955.9+ KB\n"
     ]
    }
   ],
   "source": [
    "# also look at the different types of the data\n",
    "dataset.info()"
   ]
  },
  {
   "cell_type": "markdown",
   "metadata": {},
   "source": [
    "Then we take a look if there are null values in our dataset and if this might have any consequences."
   ]
  },
  {
   "cell_type": "code",
   "execution_count": 345,
   "metadata": {},
   "outputs": [
    {
     "data": {
      "text/plain": [
       "Unnamed: 0          0\n",
       "id                  0\n",
       "track_name          0\n",
       "size_bytes          0\n",
       "currency            0\n",
       "price               0\n",
       "rating_count_tot    0\n",
       "rating_count_ver    0\n",
       "user_rating         0\n",
       "user_rating_ver     0\n",
       "ver                 0\n",
       "cont_rating         0\n",
       "prime_genre         0\n",
       "sup_devices.num     0\n",
       "ipadSc_urls.num     0\n",
       "lang.num            0\n",
       "vpp_lic             0\n",
       "dtype: int64"
      ]
     },
     "execution_count": 345,
     "metadata": {},
     "output_type": "execute_result"
    }
   ],
   "source": [
    "dataset.isnull().sum()"
   ]
  },
  {
   "cell_type": "markdown",
   "metadata": {},
   "source": [
    "Since there are no null values, this shouldn't have any consequences for the rest of this project."
   ]
  },
  {
   "cell_type": "markdown",
   "metadata": {},
   "source": [
    "# 2 Data exploration"
   ]
  },
  {
   "cell_type": "markdown",
   "metadata": {},
   "source": [
    "Now take a deeper look at the data"
   ]
  },
  {
   "cell_type": "code",
   "execution_count": 346,
   "metadata": {},
   "outputs": [
    {
     "data": {
      "text/html": [
       "<div>\n",
       "<table border=\"1\" class=\"dataframe\">\n",
       "  <thead>\n",
       "    <tr style=\"text-align: right;\">\n",
       "      <th></th>\n",
       "      <th>Unnamed: 0</th>\n",
       "      <th>id</th>\n",
       "      <th>size_bytes</th>\n",
       "      <th>price</th>\n",
       "      <th>rating_count_tot</th>\n",
       "      <th>rating_count_ver</th>\n",
       "      <th>user_rating</th>\n",
       "      <th>user_rating_ver</th>\n",
       "      <th>sup_devices.num</th>\n",
       "      <th>ipadSc_urls.num</th>\n",
       "      <th>lang.num</th>\n",
       "      <th>vpp_lic</th>\n",
       "    </tr>\n",
       "  </thead>\n",
       "  <tbody>\n",
       "    <tr>\n",
       "      <th>count</th>\n",
       "      <td>7197.000000</td>\n",
       "      <td>7.197000e+03</td>\n",
       "      <td>7.197000e+03</td>\n",
       "      <td>7197.000000</td>\n",
       "      <td>7.197000e+03</td>\n",
       "      <td>7197.000000</td>\n",
       "      <td>7197.000000</td>\n",
       "      <td>7197.000000</td>\n",
       "      <td>7197.000000</td>\n",
       "      <td>7197.000000</td>\n",
       "      <td>7197.000000</td>\n",
       "      <td>7197.000000</td>\n",
       "    </tr>\n",
       "    <tr>\n",
       "      <th>mean</th>\n",
       "      <td>4759.069612</td>\n",
       "      <td>8.631310e+08</td>\n",
       "      <td>1.991345e+08</td>\n",
       "      <td>1.726218</td>\n",
       "      <td>1.289291e+04</td>\n",
       "      <td>460.373906</td>\n",
       "      <td>3.526956</td>\n",
       "      <td>3.253578</td>\n",
       "      <td>37.361817</td>\n",
       "      <td>3.707100</td>\n",
       "      <td>5.434903</td>\n",
       "      <td>0.993053</td>\n",
       "    </tr>\n",
       "    <tr>\n",
       "      <th>std</th>\n",
       "      <td>3093.625213</td>\n",
       "      <td>2.712368e+08</td>\n",
       "      <td>3.592069e+08</td>\n",
       "      <td>5.833006</td>\n",
       "      <td>7.573941e+04</td>\n",
       "      <td>3920.455183</td>\n",
       "      <td>1.517948</td>\n",
       "      <td>1.809363</td>\n",
       "      <td>3.737715</td>\n",
       "      <td>1.986005</td>\n",
       "      <td>7.919593</td>\n",
       "      <td>0.083066</td>\n",
       "    </tr>\n",
       "    <tr>\n",
       "      <th>min</th>\n",
       "      <td>1.000000</td>\n",
       "      <td>2.816565e+08</td>\n",
       "      <td>5.898240e+05</td>\n",
       "      <td>0.000000</td>\n",
       "      <td>0.000000e+00</td>\n",
       "      <td>0.000000</td>\n",
       "      <td>0.000000</td>\n",
       "      <td>0.000000</td>\n",
       "      <td>9.000000</td>\n",
       "      <td>0.000000</td>\n",
       "      <td>0.000000</td>\n",
       "      <td>0.000000</td>\n",
       "    </tr>\n",
       "    <tr>\n",
       "      <th>25%</th>\n",
       "      <td>2090.000000</td>\n",
       "      <td>6.000937e+08</td>\n",
       "      <td>4.692275e+07</td>\n",
       "      <td>0.000000</td>\n",
       "      <td>2.800000e+01</td>\n",
       "      <td>1.000000</td>\n",
       "      <td>3.500000</td>\n",
       "      <td>2.500000</td>\n",
       "      <td>37.000000</td>\n",
       "      <td>3.000000</td>\n",
       "      <td>1.000000</td>\n",
       "      <td>1.000000</td>\n",
       "    </tr>\n",
       "    <tr>\n",
       "      <th>50%</th>\n",
       "      <td>4380.000000</td>\n",
       "      <td>9.781482e+08</td>\n",
       "      <td>9.715302e+07</td>\n",
       "      <td>0.000000</td>\n",
       "      <td>3.000000e+02</td>\n",
       "      <td>23.000000</td>\n",
       "      <td>4.000000</td>\n",
       "      <td>4.000000</td>\n",
       "      <td>37.000000</td>\n",
       "      <td>5.000000</td>\n",
       "      <td>1.000000</td>\n",
       "      <td>1.000000</td>\n",
       "    </tr>\n",
       "    <tr>\n",
       "      <th>75%</th>\n",
       "      <td>7223.000000</td>\n",
       "      <td>1.082310e+09</td>\n",
       "      <td>1.819249e+08</td>\n",
       "      <td>1.990000</td>\n",
       "      <td>2.793000e+03</td>\n",
       "      <td>140.000000</td>\n",
       "      <td>4.500000</td>\n",
       "      <td>4.500000</td>\n",
       "      <td>38.000000</td>\n",
       "      <td>5.000000</td>\n",
       "      <td>8.000000</td>\n",
       "      <td>1.000000</td>\n",
       "    </tr>\n",
       "    <tr>\n",
       "      <th>max</th>\n",
       "      <td>11097.000000</td>\n",
       "      <td>1.188376e+09</td>\n",
       "      <td>4.025970e+09</td>\n",
       "      <td>299.990000</td>\n",
       "      <td>2.974676e+06</td>\n",
       "      <td>177050.000000</td>\n",
       "      <td>5.000000</td>\n",
       "      <td>5.000000</td>\n",
       "      <td>47.000000</td>\n",
       "      <td>5.000000</td>\n",
       "      <td>75.000000</td>\n",
       "      <td>1.000000</td>\n",
       "    </tr>\n",
       "  </tbody>\n",
       "</table>\n",
       "</div>"
      ],
      "text/plain": [
       "         Unnamed: 0            id    size_bytes        price  \\\n",
       "count   7197.000000  7.197000e+03  7.197000e+03  7197.000000   \n",
       "mean    4759.069612  8.631310e+08  1.991345e+08     1.726218   \n",
       "std     3093.625213  2.712368e+08  3.592069e+08     5.833006   \n",
       "min        1.000000  2.816565e+08  5.898240e+05     0.000000   \n",
       "25%     2090.000000  6.000937e+08  4.692275e+07     0.000000   \n",
       "50%     4380.000000  9.781482e+08  9.715302e+07     0.000000   \n",
       "75%     7223.000000  1.082310e+09  1.819249e+08     1.990000   \n",
       "max    11097.000000  1.188376e+09  4.025970e+09   299.990000   \n",
       "\n",
       "       rating_count_tot  rating_count_ver  user_rating  user_rating_ver  \\\n",
       "count      7.197000e+03       7197.000000  7197.000000      7197.000000   \n",
       "mean       1.289291e+04        460.373906     3.526956         3.253578   \n",
       "std        7.573941e+04       3920.455183     1.517948         1.809363   \n",
       "min        0.000000e+00          0.000000     0.000000         0.000000   \n",
       "25%        2.800000e+01          1.000000     3.500000         2.500000   \n",
       "50%        3.000000e+02         23.000000     4.000000         4.000000   \n",
       "75%        2.793000e+03        140.000000     4.500000         4.500000   \n",
       "max        2.974676e+06     177050.000000     5.000000         5.000000   \n",
       "\n",
       "       sup_devices.num  ipadSc_urls.num     lang.num      vpp_lic  \n",
       "count      7197.000000      7197.000000  7197.000000  7197.000000  \n",
       "mean         37.361817         3.707100     5.434903     0.993053  \n",
       "std           3.737715         1.986005     7.919593     0.083066  \n",
       "min           9.000000         0.000000     0.000000     0.000000  \n",
       "25%          37.000000         3.000000     1.000000     1.000000  \n",
       "50%          37.000000         5.000000     1.000000     1.000000  \n",
       "75%          38.000000         5.000000     8.000000     1.000000  \n",
       "max          47.000000         5.000000    75.000000     1.000000  "
      ]
     },
     "execution_count": 346,
     "metadata": {},
     "output_type": "execute_result"
    }
   ],
   "source": [
    "dataset.describe()"
   ]
  },
  {
   "cell_type": "markdown",
   "metadata": {},
   "source": [
    "Some things we notice here are:\n",
    "1. More than 50% of apps are free and most apps are low prices even tough there are some high priced apps.\n",
    "2. There will be both perfect rated apps and non rated apps in our model.\n",
    "3. There are some columns that will 100% be not usefull during this project or are not clear what they mean (also after reading the documentation of the dataset. These Columns are the following: sup_devices.num, ipadSc_urls.num, lang.num, vpp_lic, track_name and Unnamed: 0. These colums will be removed at part 3 \"Removeing noise data\""
   ]
  },
  {
   "cell_type": "markdown",
   "metadata": {},
   "source": [
    "Now lets look if there are colums with some unique values like user rating etc.\n",
    "This will be done using the pandas .unique() function"
   ]
  },
  {
   "cell_type": "code",
   "execution_count": 347,
   "metadata": {},
   "outputs": [
    {
     "data": {
      "text/plain": [
       "array(['USD'], dtype=object)"
      ]
     },
     "execution_count": 347,
     "metadata": {},
     "output_type": "execute_result"
    }
   ],
   "source": [
    "dataset.currency.unique()"
   ]
  },
  {
   "cell_type": "markdown",
   "metadata": {},
   "source": [
    "Only one currency makes it so that we dont have to convert the prices to one and the same currency"
   ]
  },
  {
   "cell_type": "code",
   "execution_count": 348,
   "metadata": {},
   "outputs": [
    {
     "data": {
      "text/plain": [
       "array([ 4. ,  3.5,  4.5,  5. ,  3. ,  2. ,  2.5,  0. ,  1.5,  1. ])"
      ]
     },
     "execution_count": 348,
     "metadata": {},
     "output_type": "execute_result"
    }
   ],
   "source": [
    "dataset.user_rating.unique()"
   ]
  },
  {
   "cell_type": "markdown",
   "metadata": {},
   "source": [
    "The rating of an app is between 0 and 5 with increments of 0.5 so there are no ratings like 3.66"
   ]
  },
  {
   "cell_type": "code",
   "execution_count": 349,
   "metadata": {},
   "outputs": [
    {
     "data": {
      "text/plain": [
       "array(['Games', 'Productivity', 'Weather', 'Shopping', 'Reference',\n",
       "       'Finance', 'Music', 'Utilities', 'Travel', 'Social Networking',\n",
       "       'Sports', 'Business', 'Health & Fitness', 'Entertainment',\n",
       "       'Photo & Video', 'Navigation', 'Education', 'Lifestyle',\n",
       "       'Food & Drink', 'News', 'Book', 'Medical', 'Catalogs'], dtype=object)"
      ]
     },
     "execution_count": 349,
     "metadata": {},
     "output_type": "execute_result"
    }
   ],
   "source": [
    "dataset.prime_genre.unique()"
   ]
  },
  {
   "cell_type": "code",
   "execution_count": 350,
   "metadata": {},
   "outputs": [
    {
     "data": {
      "text/plain": [
       "array(['4+', '12+', '17+', '9+'], dtype=object)"
      ]
     },
     "execution_count": 350,
     "metadata": {},
     "output_type": "execute_result"
    }
   ],
   "source": [
    "dataset.cont_rating.unique()"
   ]
  },
  {
   "cell_type": "code",
   "execution_count": 351,
   "metadata": {},
   "outputs": [
    {
     "data": {
      "text/plain": [
       "array([   3.99,    0.  ,    0.99,    9.99,    4.99,    7.99,    2.99,\n",
       "          1.99,    5.99,   12.99,   21.99,  249.99,    6.99,   74.99,\n",
       "         19.99,    8.99,   24.99,   13.99,   14.99,   16.99,   47.99,\n",
       "         11.99,   59.99,   15.99,   27.99,   17.99,  299.99,   49.99,\n",
       "         23.99,   20.99,   39.99,   99.99,   29.99,   34.99,   18.99,\n",
       "         22.99])"
      ]
     },
     "execution_count": 351,
     "metadata": {},
     "output_type": "execute_result"
    }
   ],
   "source": [
    "dataset.price.unique()"
   ]
  },
  {
   "cell_type": "markdown",
   "metadata": {},
   "source": []
  },
  {
   "cell_type": "code",
   "execution_count": 352,
   "metadata": {},
   "outputs": [],
   "source": [
    "# 3 Removing noise data renaming and normalizing"
   ]
  },
  {
   "cell_type": "markdown",
   "metadata": {},
   "source": [
    "In part 2 we found colums that will be dropped from the dataframe. These columns are: sup_devices.num, ipadSc_urls.num, lang.num, vpp_lic.\n",
    "Also because there is 1 currency we don't need the currency column because the price column is enough.\n",
    "After dropping we check if the actually are dropped by using the .head() function to look at the dataset"
   ]
  },
  {
   "cell_type": "code",
   "execution_count": 353,
   "metadata": {},
   "outputs": [
    {
     "data": {
      "text/html": [
       "<div>\n",
       "<table border=\"1\" class=\"dataframe\">\n",
       "  <thead>\n",
       "    <tr style=\"text-align: right;\">\n",
       "      <th></th>\n",
       "      <th>size_bytes</th>\n",
       "      <th>price</th>\n",
       "      <th>rating_count_tot</th>\n",
       "      <th>rating_count_ver</th>\n",
       "      <th>user_rating</th>\n",
       "      <th>user_rating_ver</th>\n",
       "      <th>ver</th>\n",
       "      <th>cont_rating</th>\n",
       "      <th>prime_genre</th>\n",
       "    </tr>\n",
       "  </thead>\n",
       "  <tbody>\n",
       "    <tr>\n",
       "      <th>0</th>\n",
       "      <td>100788224</td>\n",
       "      <td>3.99</td>\n",
       "      <td>21292</td>\n",
       "      <td>26</td>\n",
       "      <td>4.0</td>\n",
       "      <td>4.5</td>\n",
       "      <td>6.3.5</td>\n",
       "      <td>4+</td>\n",
       "      <td>Games</td>\n",
       "    </tr>\n",
       "    <tr>\n",
       "      <th>1</th>\n",
       "      <td>158578688</td>\n",
       "      <td>0.00</td>\n",
       "      <td>161065</td>\n",
       "      <td>26</td>\n",
       "      <td>4.0</td>\n",
       "      <td>3.5</td>\n",
       "      <td>8.2.2</td>\n",
       "      <td>4+</td>\n",
       "      <td>Productivity</td>\n",
       "    </tr>\n",
       "    <tr>\n",
       "      <th>2</th>\n",
       "      <td>100524032</td>\n",
       "      <td>0.00</td>\n",
       "      <td>188583</td>\n",
       "      <td>2822</td>\n",
       "      <td>3.5</td>\n",
       "      <td>4.5</td>\n",
       "      <td>5.0.0</td>\n",
       "      <td>4+</td>\n",
       "      <td>Weather</td>\n",
       "    </tr>\n",
       "    <tr>\n",
       "      <th>3</th>\n",
       "      <td>128512000</td>\n",
       "      <td>0.00</td>\n",
       "      <td>262241</td>\n",
       "      <td>649</td>\n",
       "      <td>4.0</td>\n",
       "      <td>4.5</td>\n",
       "      <td>5.10.0</td>\n",
       "      <td>12+</td>\n",
       "      <td>Shopping</td>\n",
       "    </tr>\n",
       "    <tr>\n",
       "      <th>4</th>\n",
       "      <td>92774400</td>\n",
       "      <td>0.00</td>\n",
       "      <td>985920</td>\n",
       "      <td>5320</td>\n",
       "      <td>4.5</td>\n",
       "      <td>5.0</td>\n",
       "      <td>7.5.1</td>\n",
       "      <td>4+</td>\n",
       "      <td>Reference</td>\n",
       "    </tr>\n",
       "  </tbody>\n",
       "</table>\n",
       "</div>"
      ],
      "text/plain": [
       "   size_bytes  price  rating_count_tot  rating_count_ver  user_rating  \\\n",
       "0   100788224   3.99             21292                26          4.0   \n",
       "1   158578688   0.00            161065                26          4.0   \n",
       "2   100524032   0.00            188583              2822          3.5   \n",
       "3   128512000   0.00            262241               649          4.0   \n",
       "4    92774400   0.00            985920              5320          4.5   \n",
       "\n",
       "   user_rating_ver     ver cont_rating   prime_genre  \n",
       "0              4.5   6.3.5          4+         Games  \n",
       "1              3.5   8.2.2          4+  Productivity  \n",
       "2              4.5   5.0.0          4+       Weather  \n",
       "3              4.5  5.10.0         12+      Shopping  \n",
       "4              5.0   7.5.1          4+     Reference  "
      ]
     },
     "execution_count": 353,
     "metadata": {},
     "output_type": "execute_result"
    }
   ],
   "source": [
    "dataset = dataset.drop([\"Unnamed: 0\",\"track_name\", \"currency\",\"sup_devices.num\",\"ipadSc_urls.num\",\"lang.num\",\"vpp_lic\",\"id\"], axis=1)\n",
    "dataset.head()"
   ]
  },
  {
   "cell_type": "code",
   "execution_count": 354,
   "metadata": {},
   "outputs": [],
   "source": [
    "# saving this dataset to our dataset folder so we can use this in the future.\n",
    "dataset.to_csv(\"../dataset/AppleStoreWithoutNoise.csv\", index=False, encoding='utf8')"
   ]
  },
  {
   "cell_type": "code",
   "execution_count": 355,
   "metadata": {},
   "outputs": [],
   "source": [
    "\n",
    "copy = dataset\n",
    "\n",
    "copy = copy.drop(copy[copy.user_rating < 1].index)\n",
    "dataset = copy"
   ]
  },
  {
   "cell_type": "markdown",
   "metadata": {},
   "source": [
    "Next thing we have to do is normalize some values and create catergories for non numeric values. \n",
    "\n",
    "As of now there are a lot of different app sizes which have a large spread. (obviously because its given in bytes) there are two options to normalize these. We can either: \n",
    "1. Put the different sizes into categories like : < 1mb or > 100mb etc.\n",
    "2. Normalize the bytes to kb or even mb\n",
    "\n",
    "Next there is the price, earlier we saw the prices range from 0 - 299.99. We have two options here:\n",
    "1. Normalize by dividing by a own determined number.\n",
    "2. use MinMax normalization which normalizes all numbers to be between 0 and 1\n",
    "Option 2 should be the most optimal here for our model.\n",
    "\n",
    "rating_count_tot has two options to normalize\n",
    "1. Normalize by dividing by a own determined number.\n",
    "2. use MinMax normalization which normalizes all numbers to be between 0 and 1\n",
    "The best option here : TBA\n",
    "\n",
    "rating_count_ver is not certain if this column can be used for our model so we will not normalize for now, but leave it in just in case.\n",
    "\n",
    "user_rating is an easy scale that can be normalized using the MinMax normalization which is also the most optimal option for our model.\n",
    "\n",
    "user_rating_ver is not certain if this column can be used for our model so we will not normalize for now, but leave it in just in case.\n",
    "\n",
    "version is not certain if this column can be used for our model so we will not normalize for now, but leave it in just in case.\n",
    "\n",
    "cont_rating and prime_genre both have multiple different possible values which are all text. To use these field we need to convert these someway to numbers. To do this we can us the function \"get_dummies()\" from pandas utils. This function will add the amount of unique values in columns to the dataset and mark the right feature value with a 1 and the rest with a 0."
   ]
  },
  {
   "cell_type": "code",
   "execution_count": 356,
   "metadata": {},
   "outputs": [],
   "source": [
    "# size_bytes normalization\n",
    "# after looking at the data we can see the range is between 576kb and 3.72529Gb. \n",
    "# So the first thing we can do is convert the size_bytes to size_100kilo_bytes by dividing 1024 (b -> kb) and 100 (kb ->100kb)\n",
    "\n",
    "dataset['size_100kilo_bytes'] = dataset['size_bytes']/102400"
   ]
  },
  {
   "cell_type": "code",
   "execution_count": 357,
   "metadata": {},
   "outputs": [],
   "source": [
    "# price normalization\n",
    "\n",
    "mms = MinMaxScaler()\n",
    "dataset['price_mms'] = mms.fit_transform(dataset[['price']])"
   ]
  },
  {
   "cell_type": "code",
   "execution_count": 358,
   "metadata": {},
   "outputs": [],
   "source": [
    "# rating_count_tot normalization\n",
    "# TODO"
   ]
  },
  {
   "cell_type": "code",
   "execution_count": 359,
   "metadata": {},
   "outputs": [],
   "source": [
    "# user_rating normalization\n",
    "\n",
    "dataset['user_rating_mms'] = mms.fit_transform(dataset[['user_rating']])"
   ]
  },
  {
   "cell_type": "code",
   "execution_count": 360,
   "metadata": {},
   "outputs": [],
   "source": [
    "#user_rating count \n",
    "\n",
    "dataset['rating_count_mms'] = mms.fit_transform(dataset[['rating_count_tot']])"
   ]
  },
  {
   "cell_type": "code",
   "execution_count": 361,
   "metadata": {},
   "outputs": [
    {
     "data": {
      "text/html": [
       "<div>\n",
       "<table border=\"1\" class=\"dataframe\">\n",
       "  <thead>\n",
       "    <tr style=\"text-align: right;\">\n",
       "      <th></th>\n",
       "      <th>cont_rating_12+</th>\n",
       "      <th>cont_rating_17+</th>\n",
       "      <th>cont_rating_4+</th>\n",
       "      <th>cont_rating_9+</th>\n",
       "      <th>prime_genre_Book</th>\n",
       "      <th>prime_genre_Business</th>\n",
       "      <th>prime_genre_Catalogs</th>\n",
       "      <th>prime_genre_Education</th>\n",
       "      <th>prime_genre_Entertainment</th>\n",
       "      <th>prime_genre_Finance</th>\n",
       "      <th>...</th>\n",
       "      <th>prime_genre_News</th>\n",
       "      <th>prime_genre_Photo &amp; Video</th>\n",
       "      <th>prime_genre_Productivity</th>\n",
       "      <th>prime_genre_Reference</th>\n",
       "      <th>prime_genre_Shopping</th>\n",
       "      <th>prime_genre_Social Networking</th>\n",
       "      <th>prime_genre_Sports</th>\n",
       "      <th>prime_genre_Travel</th>\n",
       "      <th>prime_genre_Utilities</th>\n",
       "      <th>prime_genre_Weather</th>\n",
       "    </tr>\n",
       "  </thead>\n",
       "  <tbody>\n",
       "    <tr>\n",
       "      <th>0</th>\n",
       "      <td>0</td>\n",
       "      <td>0</td>\n",
       "      <td>1</td>\n",
       "      <td>0</td>\n",
       "      <td>0</td>\n",
       "      <td>0</td>\n",
       "      <td>0</td>\n",
       "      <td>0</td>\n",
       "      <td>0</td>\n",
       "      <td>0</td>\n",
       "      <td>...</td>\n",
       "      <td>0</td>\n",
       "      <td>0</td>\n",
       "      <td>0</td>\n",
       "      <td>0</td>\n",
       "      <td>0</td>\n",
       "      <td>0</td>\n",
       "      <td>0</td>\n",
       "      <td>0</td>\n",
       "      <td>0</td>\n",
       "      <td>0</td>\n",
       "    </tr>\n",
       "    <tr>\n",
       "      <th>1</th>\n",
       "      <td>0</td>\n",
       "      <td>0</td>\n",
       "      <td>1</td>\n",
       "      <td>0</td>\n",
       "      <td>0</td>\n",
       "      <td>0</td>\n",
       "      <td>0</td>\n",
       "      <td>0</td>\n",
       "      <td>0</td>\n",
       "      <td>0</td>\n",
       "      <td>...</td>\n",
       "      <td>0</td>\n",
       "      <td>0</td>\n",
       "      <td>1</td>\n",
       "      <td>0</td>\n",
       "      <td>0</td>\n",
       "      <td>0</td>\n",
       "      <td>0</td>\n",
       "      <td>0</td>\n",
       "      <td>0</td>\n",
       "      <td>0</td>\n",
       "    </tr>\n",
       "    <tr>\n",
       "      <th>2</th>\n",
       "      <td>0</td>\n",
       "      <td>0</td>\n",
       "      <td>1</td>\n",
       "      <td>0</td>\n",
       "      <td>0</td>\n",
       "      <td>0</td>\n",
       "      <td>0</td>\n",
       "      <td>0</td>\n",
       "      <td>0</td>\n",
       "      <td>0</td>\n",
       "      <td>...</td>\n",
       "      <td>0</td>\n",
       "      <td>0</td>\n",
       "      <td>0</td>\n",
       "      <td>0</td>\n",
       "      <td>0</td>\n",
       "      <td>0</td>\n",
       "      <td>0</td>\n",
       "      <td>0</td>\n",
       "      <td>0</td>\n",
       "      <td>1</td>\n",
       "    </tr>\n",
       "    <tr>\n",
       "      <th>3</th>\n",
       "      <td>1</td>\n",
       "      <td>0</td>\n",
       "      <td>0</td>\n",
       "      <td>0</td>\n",
       "      <td>0</td>\n",
       "      <td>0</td>\n",
       "      <td>0</td>\n",
       "      <td>0</td>\n",
       "      <td>0</td>\n",
       "      <td>0</td>\n",
       "      <td>...</td>\n",
       "      <td>0</td>\n",
       "      <td>0</td>\n",
       "      <td>0</td>\n",
       "      <td>0</td>\n",
       "      <td>1</td>\n",
       "      <td>0</td>\n",
       "      <td>0</td>\n",
       "      <td>0</td>\n",
       "      <td>0</td>\n",
       "      <td>0</td>\n",
       "    </tr>\n",
       "    <tr>\n",
       "      <th>4</th>\n",
       "      <td>0</td>\n",
       "      <td>0</td>\n",
       "      <td>1</td>\n",
       "      <td>0</td>\n",
       "      <td>0</td>\n",
       "      <td>0</td>\n",
       "      <td>0</td>\n",
       "      <td>0</td>\n",
       "      <td>0</td>\n",
       "      <td>0</td>\n",
       "      <td>...</td>\n",
       "      <td>0</td>\n",
       "      <td>0</td>\n",
       "      <td>0</td>\n",
       "      <td>1</td>\n",
       "      <td>0</td>\n",
       "      <td>0</td>\n",
       "      <td>0</td>\n",
       "      <td>0</td>\n",
       "      <td>0</td>\n",
       "      <td>0</td>\n",
       "    </tr>\n",
       "  </tbody>\n",
       "</table>\n",
       "<p>5 rows × 27 columns</p>\n",
       "</div>"
      ],
      "text/plain": [
       "   cont_rating_12+  cont_rating_17+  cont_rating_4+  cont_rating_9+  \\\n",
       "0                0                0               1               0   \n",
       "1                0                0               1               0   \n",
       "2                0                0               1               0   \n",
       "3                1                0               0               0   \n",
       "4                0                0               1               0   \n",
       "\n",
       "   prime_genre_Book  prime_genre_Business  prime_genre_Catalogs  \\\n",
       "0                 0                     0                     0   \n",
       "1                 0                     0                     0   \n",
       "2                 0                     0                     0   \n",
       "3                 0                     0                     0   \n",
       "4                 0                     0                     0   \n",
       "\n",
       "   prime_genre_Education  prime_genre_Entertainment  prime_genre_Finance  \\\n",
       "0                      0                          0                    0   \n",
       "1                      0                          0                    0   \n",
       "2                      0                          0                    0   \n",
       "3                      0                          0                    0   \n",
       "4                      0                          0                    0   \n",
       "\n",
       "          ...           prime_genre_News  prime_genre_Photo & Video  \\\n",
       "0         ...                          0                          0   \n",
       "1         ...                          0                          0   \n",
       "2         ...                          0                          0   \n",
       "3         ...                          0                          0   \n",
       "4         ...                          0                          0   \n",
       "\n",
       "   prime_genre_Productivity  prime_genre_Reference  prime_genre_Shopping  \\\n",
       "0                         0                      0                     0   \n",
       "1                         1                      0                     0   \n",
       "2                         0                      0                     0   \n",
       "3                         0                      0                     1   \n",
       "4                         0                      1                     0   \n",
       "\n",
       "   prime_genre_Social Networking  prime_genre_Sports  prime_genre_Travel  \\\n",
       "0                              0                   0                   0   \n",
       "1                              0                   0                   0   \n",
       "2                              0                   0                   0   \n",
       "3                              0                   0                   0   \n",
       "4                              0                   0                   0   \n",
       "\n",
       "   prime_genre_Utilities  prime_genre_Weather  \n",
       "0                      0                    0  \n",
       "1                      0                    0  \n",
       "2                      0                    1  \n",
       "3                      0                    0  \n",
       "4                      0                    0  \n",
       "\n",
       "[5 rows x 27 columns]"
      ]
     },
     "execution_count": 361,
     "metadata": {},
     "output_type": "execute_result"
    }
   ],
   "source": [
    "# cont_rating and prime_genre dummies\n",
    "\n",
    "dataset_dummies = pd.get_dummies(dataset[['cont_rating','prime_genre']])\n",
    "dataset_dummies.head()"
   ]
  },
  {
   "cell_type": "code",
   "execution_count": 362,
   "metadata": {},
   "outputs": [
    {
     "data": {
      "text/html": [
       "<div>\n",
       "<table border=\"1\" class=\"dataframe\">\n",
       "  <thead>\n",
       "    <tr style=\"text-align: right;\">\n",
       "      <th></th>\n",
       "      <th>size_bytes</th>\n",
       "      <th>price</th>\n",
       "      <th>rating_count_tot</th>\n",
       "      <th>rating_count_ver</th>\n",
       "      <th>user_rating</th>\n",
       "      <th>user_rating_ver</th>\n",
       "      <th>size_100kilo_bytes</th>\n",
       "      <th>price_mms</th>\n",
       "      <th>user_rating_mms</th>\n",
       "      <th>rating_count_mms</th>\n",
       "    </tr>\n",
       "  </thead>\n",
       "  <tbody>\n",
       "    <tr>\n",
       "      <th>count</th>\n",
       "      <td>6.268000e+03</td>\n",
       "      <td>6268.000000</td>\n",
       "      <td>6.268000e+03</td>\n",
       "      <td>6268.000000</td>\n",
       "      <td>6268.000000</td>\n",
       "      <td>6268.000000</td>\n",
       "      <td>6268.000000</td>\n",
       "      <td>6268.000000</td>\n",
       "      <td>6268.000000</td>\n",
       "      <td>6268.000000</td>\n",
       "    </tr>\n",
       "    <tr>\n",
       "      <th>mean</th>\n",
       "      <td>2.057430e+08</td>\n",
       "      <td>1.821977</td>\n",
       "      <td>1.480381e+04</td>\n",
       "      <td>528.607371</td>\n",
       "      <td>4.049697</td>\n",
       "      <td>3.735801</td>\n",
       "      <td>2009.209099</td>\n",
       "      <td>0.006073</td>\n",
       "      <td>0.762424</td>\n",
       "      <td>0.004976</td>\n",
       "    </tr>\n",
       "    <tr>\n",
       "      <th>std</th>\n",
       "      <td>3.526341e+08</td>\n",
       "      <td>6.128238</td>\n",
       "      <td>8.098468e+04</td>\n",
       "      <td>4196.699812</td>\n",
       "      <td>0.726943</td>\n",
       "      <td>1.399040</td>\n",
       "      <td>3443.692860</td>\n",
       "      <td>0.020428</td>\n",
       "      <td>0.181736</td>\n",
       "      <td>0.027225</td>\n",
       "    </tr>\n",
       "    <tr>\n",
       "      <th>min</th>\n",
       "      <td>5.898240e+05</td>\n",
       "      <td>0.000000</td>\n",
       "      <td>1.000000e+00</td>\n",
       "      <td>0.000000</td>\n",
       "      <td>1.000000</td>\n",
       "      <td>0.000000</td>\n",
       "      <td>5.760000</td>\n",
       "      <td>0.000000</td>\n",
       "      <td>0.000000</td>\n",
       "      <td>0.000000</td>\n",
       "    </tr>\n",
       "    <tr>\n",
       "      <th>25%</th>\n",
       "      <td>5.171942e+07</td>\n",
       "      <td>0.000000</td>\n",
       "      <td>7.800000e+01</td>\n",
       "      <td>6.000000</td>\n",
       "      <td>4.000000</td>\n",
       "      <td>3.500000</td>\n",
       "      <td>505.072500</td>\n",
       "      <td>0.000000</td>\n",
       "      <td>0.750000</td>\n",
       "      <td>0.000026</td>\n",
       "    </tr>\n",
       "    <tr>\n",
       "      <th>50%</th>\n",
       "      <td>1.021292e+08</td>\n",
       "      <td>0.000000</td>\n",
       "      <td>5.125000e+02</td>\n",
       "      <td>37.000000</td>\n",
       "      <td>4.500000</td>\n",
       "      <td>4.500000</td>\n",
       "      <td>997.355000</td>\n",
       "      <td>0.000000</td>\n",
       "      <td>0.875000</td>\n",
       "      <td>0.000172</td>\n",
       "    </tr>\n",
       "    <tr>\n",
       "      <th>75%</th>\n",
       "      <td>1.884774e+08</td>\n",
       "      <td>2.990000</td>\n",
       "      <td>3.963500e+03</td>\n",
       "      <td>176.000000</td>\n",
       "      <td>4.500000</td>\n",
       "      <td>4.500000</td>\n",
       "      <td>1840.600000</td>\n",
       "      <td>0.009967</td>\n",
       "      <td>0.875000</td>\n",
       "      <td>0.001332</td>\n",
       "    </tr>\n",
       "    <tr>\n",
       "      <th>max</th>\n",
       "      <td>4.025970e+09</td>\n",
       "      <td>299.990000</td>\n",
       "      <td>2.974676e+06</td>\n",
       "      <td>177050.000000</td>\n",
       "      <td>5.000000</td>\n",
       "      <td>5.000000</td>\n",
       "      <td>39316.110000</td>\n",
       "      <td>1.000000</td>\n",
       "      <td>1.000000</td>\n",
       "      <td>1.000000</td>\n",
       "    </tr>\n",
       "  </tbody>\n",
       "</table>\n",
       "</div>"
      ],
      "text/plain": [
       "         size_bytes        price  rating_count_tot  rating_count_ver  \\\n",
       "count  6.268000e+03  6268.000000      6.268000e+03       6268.000000   \n",
       "mean   2.057430e+08     1.821977      1.480381e+04        528.607371   \n",
       "std    3.526341e+08     6.128238      8.098468e+04       4196.699812   \n",
       "min    5.898240e+05     0.000000      1.000000e+00          0.000000   \n",
       "25%    5.171942e+07     0.000000      7.800000e+01          6.000000   \n",
       "50%    1.021292e+08     0.000000      5.125000e+02         37.000000   \n",
       "75%    1.884774e+08     2.990000      3.963500e+03        176.000000   \n",
       "max    4.025970e+09   299.990000      2.974676e+06     177050.000000   \n",
       "\n",
       "       user_rating  user_rating_ver  size_100kilo_bytes    price_mms  \\\n",
       "count  6268.000000      6268.000000         6268.000000  6268.000000   \n",
       "mean      4.049697         3.735801         2009.209099     0.006073   \n",
       "std       0.726943         1.399040         3443.692860     0.020428   \n",
       "min       1.000000         0.000000            5.760000     0.000000   \n",
       "25%       4.000000         3.500000          505.072500     0.000000   \n",
       "50%       4.500000         4.500000          997.355000     0.000000   \n",
       "75%       4.500000         4.500000         1840.600000     0.009967   \n",
       "max       5.000000         5.000000        39316.110000     1.000000   \n",
       "\n",
       "       user_rating_mms  rating_count_mms  \n",
       "count      6268.000000       6268.000000  \n",
       "mean          0.762424          0.004976  \n",
       "std           0.181736          0.027225  \n",
       "min           0.000000          0.000000  \n",
       "25%           0.750000          0.000026  \n",
       "50%           0.875000          0.000172  \n",
       "75%           0.875000          0.001332  \n",
       "max           1.000000          1.000000  "
      ]
     },
     "execution_count": 362,
     "metadata": {},
     "output_type": "execute_result"
    }
   ],
   "source": [
    "# Check if all values are now normalized correct\n",
    "dataset.describe()"
   ]
  },
  {
   "cell_type": "markdown",
   "metadata": {},
   "source": [
    "# Setting up and training a model"
   ]
  },
  {
   "cell_type": "code",
   "execution_count": 389,
   "metadata": {},
   "outputs": [],
   "source": [
    "# TODO\n",
    "\n",
    "from keras.models import Sequential\n",
    "from keras.layers import Dense\n",
    "from keras.optimizers import Adam\n",
    "from keras.wrappers.scikit_learn import KerasRegressor\n",
    "from sklearn.pipeline import Pipeline\n",
    "from sklearn.model_selection import KFold\n",
    "from sklearn.model_selection import cross_val_score\n",
    "from keras.wrappers.scikit_learn import KerasClassifier\n"
   ]
  },
  {
   "cell_type": "code",
   "execution_count": 390,
   "metadata": {},
   "outputs": [
    {
     "data": {
      "text/html": [
       "<div>\n",
       "<table border=\"1\" class=\"dataframe\">\n",
       "  <thead>\n",
       "    <tr style=\"text-align: right;\">\n",
       "      <th></th>\n",
       "      <th>size_bytes</th>\n",
       "      <th>price</th>\n",
       "      <th>rating_count_tot</th>\n",
       "      <th>rating_count_ver</th>\n",
       "      <th>user_rating</th>\n",
       "      <th>user_rating_ver</th>\n",
       "      <th>ver</th>\n",
       "      <th>cont_rating</th>\n",
       "      <th>prime_genre</th>\n",
       "      <th>size_100kilo_bytes</th>\n",
       "      <th>price_mms</th>\n",
       "      <th>user_rating_mms</th>\n",
       "      <th>rating_count_mms</th>\n",
       "      <th>is_not_free</th>\n",
       "    </tr>\n",
       "  </thead>\n",
       "  <tbody>\n",
       "    <tr>\n",
       "      <th>0</th>\n",
       "      <td>100788224</td>\n",
       "      <td>3.99</td>\n",
       "      <td>21292</td>\n",
       "      <td>26</td>\n",
       "      <td>4.0</td>\n",
       "      <td>4.5</td>\n",
       "      <td>6.3.5</td>\n",
       "      <td>4+</td>\n",
       "      <td>Games</td>\n",
       "      <td>984.26</td>\n",
       "      <td>0.0133</td>\n",
       "      <td>0.750</td>\n",
       "      <td>0.007157</td>\n",
       "      <td>1</td>\n",
       "    </tr>\n",
       "    <tr>\n",
       "      <th>1</th>\n",
       "      <td>158578688</td>\n",
       "      <td>0.00</td>\n",
       "      <td>161065</td>\n",
       "      <td>26</td>\n",
       "      <td>4.0</td>\n",
       "      <td>3.5</td>\n",
       "      <td>8.2.2</td>\n",
       "      <td>4+</td>\n",
       "      <td>Productivity</td>\n",
       "      <td>1548.62</td>\n",
       "      <td>0.0000</td>\n",
       "      <td>0.750</td>\n",
       "      <td>0.054145</td>\n",
       "      <td>0</td>\n",
       "    </tr>\n",
       "    <tr>\n",
       "      <th>2</th>\n",
       "      <td>100524032</td>\n",
       "      <td>0.00</td>\n",
       "      <td>188583</td>\n",
       "      <td>2822</td>\n",
       "      <td>3.5</td>\n",
       "      <td>4.5</td>\n",
       "      <td>5.0.0</td>\n",
       "      <td>4+</td>\n",
       "      <td>Weather</td>\n",
       "      <td>981.68</td>\n",
       "      <td>0.0000</td>\n",
       "      <td>0.625</td>\n",
       "      <td>0.063396</td>\n",
       "      <td>0</td>\n",
       "    </tr>\n",
       "    <tr>\n",
       "      <th>3</th>\n",
       "      <td>128512000</td>\n",
       "      <td>0.00</td>\n",
       "      <td>262241</td>\n",
       "      <td>649</td>\n",
       "      <td>4.0</td>\n",
       "      <td>4.5</td>\n",
       "      <td>5.10.0</td>\n",
       "      <td>12+</td>\n",
       "      <td>Shopping</td>\n",
       "      <td>1255.00</td>\n",
       "      <td>0.0000</td>\n",
       "      <td>0.750</td>\n",
       "      <td>0.088158</td>\n",
       "      <td>0</td>\n",
       "    </tr>\n",
       "    <tr>\n",
       "      <th>4</th>\n",
       "      <td>92774400</td>\n",
       "      <td>0.00</td>\n",
       "      <td>985920</td>\n",
       "      <td>5320</td>\n",
       "      <td>4.5</td>\n",
       "      <td>5.0</td>\n",
       "      <td>7.5.1</td>\n",
       "      <td>4+</td>\n",
       "      <td>Reference</td>\n",
       "      <td>906.00</td>\n",
       "      <td>0.0000</td>\n",
       "      <td>0.875</td>\n",
       "      <td>0.331438</td>\n",
       "      <td>0</td>\n",
       "    </tr>\n",
       "  </tbody>\n",
       "</table>\n",
       "</div>"
      ],
      "text/plain": [
       "   size_bytes  price  rating_count_tot  rating_count_ver  user_rating  \\\n",
       "0   100788224   3.99             21292                26          4.0   \n",
       "1   158578688   0.00            161065                26          4.0   \n",
       "2   100524032   0.00            188583              2822          3.5   \n",
       "3   128512000   0.00            262241               649          4.0   \n",
       "4    92774400   0.00            985920              5320          4.5   \n",
       "\n",
       "   user_rating_ver     ver cont_rating   prime_genre  size_100kilo_bytes  \\\n",
       "0              4.5   6.3.5          4+         Games              984.26   \n",
       "1              3.5   8.2.2          4+  Productivity             1548.62   \n",
       "2              4.5   5.0.0          4+       Weather              981.68   \n",
       "3              4.5  5.10.0         12+      Shopping             1255.00   \n",
       "4              5.0   7.5.1          4+     Reference              906.00   \n",
       "\n",
       "   price_mms  user_rating_mms  rating_count_mms  is_not_free  \n",
       "0     0.0133            0.750          0.007157            1  \n",
       "1     0.0000            0.750          0.054145            0  \n",
       "2     0.0000            0.625          0.063396            0  \n",
       "3     0.0000            0.750          0.088158            0  \n",
       "4     0.0000            0.875          0.331438            0  "
      ]
     },
     "execution_count": 390,
     "metadata": {},
     "output_type": "execute_result"
    }
   ],
   "source": [
    "dataset['is_not_free'] = dataset['price'].apply(lambda x: 1 if x > 0 else 0)\n",
    "dataset.head()"
   ]
  },
  {
   "cell_type": "code",
   "execution_count": 391,
   "metadata": {},
   "outputs": [],
   "source": [
    "def categorize_rating(x):\n",
    "    if x <= 4:\n",
    "        return 0\n",
    "    else:\n",
    "        return 1"
   ]
  },
  {
   "cell_type": "code",
   "execution_count": null,
   "metadata": {},
   "outputs": [],
   "source": []
  },
  {
   "cell_type": "code",
   "execution_count": 392,
   "metadata": {},
   "outputs": [
    {
     "data": {
      "text/plain": [
       "(6268, 29)"
      ]
     },
     "execution_count": 392,
     "metadata": {},
     "output_type": "execute_result"
    }
   ],
   "source": [
    "X = pd.concat([copy[['is_not_free', 'rating_count_mms']], dataset_dummies], axis=1).values\n",
    "Y = dataset['user_rating']\n",
    "Y = Y.apply(categorize_rating).values\n",
    "\n",
    "X_train, X_test, Y_train, Y_test = train_test_split(X, Y, test_size=0.2)\n",
    "len(X_train)\n",
    "X.shape"
   ]
  },
  {
   "cell_type": "code",
   "execution_count": 393,
   "metadata": {},
   "outputs": [],
   "source": [
    "def model_builder_sigmoid():\n",
    "    model = Sequential()\n",
    "    model.add(Dense(1, input_shape=(29,), activation='sigmoid'))\n",
    "    model.compile(SGD(lr=0.5), \n",
    "                  loss='binary_crossentropy', \n",
    "                  metrics=['accuracy'])\n",
    "    #model.fit(X_train, Y_train, epochs=25)\n",
    "    return model"
   ]
  },
  {
   "cell_type": "code",
   "execution_count": 394,
   "metadata": {},
   "outputs": [
    {
     "name": "stdout",
     "output_type": "stream",
     "text": [
      "The cross validation accuracy is 0.5900 ± 0.0129\n"
     ]
    }
   ],
   "source": [
    "model = KerasClassifier(build_fn=model_builder_sigmoid,\n",
    "                        epochs=25,\n",
    "                        verbose=0)\n",
    "cv = KFold(3, shuffle=True)\n",
    "scores = cross_val_score(model, X, Y, cv=cv)\n",
    "print(\"The cross validation accuracy is {:0.4f} ± {:0.4f}\".format(scores.mean(), scores.std()))"
   ]
  },
  {
   "cell_type": "code",
   "execution_count": 395,
   "metadata": {},
   "outputs": [
    {
     "name": "stdout",
     "output_type": "stream",
     "text": [
      "Epoch 1/25\n",
      "5014/5014 [==============================] - 1s - loss: 0.6815 - acc: 0.5716     \n",
      "Epoch 2/25\n",
      "5014/5014 [==============================] - 0s - loss: 0.6752 - acc: 0.5822     \n",
      "Epoch 3/25\n",
      "5014/5014 [==============================] - 0s - loss: 0.6717 - acc: 0.5955     \n",
      "Epoch 4/25\n",
      "5014/5014 [==============================] - 0s - loss: 0.6706 - acc: 0.5985     \n",
      "Epoch 5/25\n",
      "5014/5014 [==============================] - 0s - loss: 0.6705 - acc: 0.5991     \n",
      "Epoch 6/25\n",
      "5014/5014 [==============================] - 0s - loss: 0.6687 - acc: 0.5961     \n",
      "Epoch 7/25\n",
      "5014/5014 [==============================] - 0s - loss: 0.6693 - acc: 0.5911     \n",
      "Epoch 8/25\n",
      "5014/5014 [==============================] - 0s - loss: 0.6697 - acc: 0.5963     \n",
      "Epoch 9/25\n",
      "5014/5014 [==============================] - 0s - loss: 0.6682 - acc: 0.5971     \n",
      "Epoch 10/25\n",
      "5014/5014 [==============================] - 0s - loss: 0.6685 - acc: 0.5947     \n",
      "Epoch 11/25\n",
      "5014/5014 [==============================] - 0s - loss: 0.6686 - acc: 0.5965     \n",
      "Epoch 12/25\n",
      "5014/5014 [==============================] - 0s - loss: 0.6694 - acc: 0.5963     \n",
      "Epoch 13/25\n",
      "5014/5014 [==============================] - 0s - loss: 0.6672 - acc: 0.5977     \n",
      "Epoch 14/25\n",
      "5014/5014 [==============================] - 0s - loss: 0.6687 - acc: 0.5959     \n",
      "Epoch 15/25\n",
      "5014/5014 [==============================] - 0s - loss: 0.6684 - acc: 0.5961     \n",
      "Epoch 16/25\n",
      "5014/5014 [==============================] - 0s - loss: 0.6673 - acc: 0.5953     \n",
      "Epoch 17/25\n",
      "5014/5014 [==============================] - 0s - loss: 0.6688 - acc: 0.5919     \n",
      "Epoch 18/25\n",
      "5014/5014 [==============================] - 0s - loss: 0.6677 - acc: 0.6005     \n",
      "Epoch 19/25\n",
      "5014/5014 [==============================] - 0s - loss: 0.6688 - acc: 0.5983     \n",
      "Epoch 20/25\n",
      "5014/5014 [==============================] - 0s - loss: 0.6690 - acc: 0.5947     \n",
      "Epoch 21/25\n",
      "5014/5014 [==============================] - 0s - loss: 0.6689 - acc: 0.5965     \n",
      "Epoch 22/25\n",
      "5014/5014 [==============================] - 0s - loss: 0.6685 - acc: 0.5963     \n",
      "Epoch 23/25\n",
      "5014/5014 [==============================] - 0s - loss: 0.6672 - acc: 0.5997     \n",
      "Epoch 24/25\n",
      "5014/5014 [==============================] - 0s - loss: 0.6682 - acc: 0.5945     \n",
      "Epoch 25/25\n",
      "5014/5014 [==============================] - 0s - loss: 0.6678 - acc: 0.5993     \n",
      "The Accuracy score on the Train set is:\t0.599\n",
      "The Accuracy score on the Test set is:\t0.569\n"
     ]
    }
   ],
   "source": [
    "from sklearn.metrics import accuracy_score, confusion_matrix\n",
    "\n",
    "\n",
    "model = model_builder_sigmoid()\n",
    "model.fit(X_train, Y_train, epochs=25)\n",
    "\n",
    "\n",
    "y_train_pred = model.predict(X_train)\n",
    "y_test_pred = model.predict(X_test)\n",
    "\n",
    "print(\"The Accuracy score on the Train set is:\\t{:0.3f}\".format(accuracy_score(Y_train, y_train_pred.round())))\n",
    "print(\"The Accuracy score on the Test set is:\\t{:0.3f}\".format(accuracy_score(Y_test, y_test_pred.round())))"
   ]
  },
  {
   "cell_type": "code",
   "execution_count": null,
   "metadata": {},
   "outputs": [],
   "source": []
  },
  {
   "cell_type": "code",
   "execution_count": null,
   "metadata": {},
   "outputs": [],
   "source": []
  },
  {
   "cell_type": "code",
   "execution_count": null,
   "metadata": {},
   "outputs": [],
   "source": []
  },
  {
   "cell_type": "code",
   "execution_count": null,
   "metadata": {},
   "outputs": [],
   "source": []
  },
  {
   "cell_type": "code",
   "execution_count": null,
   "metadata": {},
   "outputs": [],
   "source": [
    "copy.describe()"
   ]
  },
  {
   "cell_type": "code",
   "execution_count": null,
   "metadata": {},
   "outputs": [],
   "source": [
    "from keras.models import Sequential\n",
    "from keras.layers import Dense\n",
    "from keras.optimizers import Adam\n",
    "from keras.wrappers.scikit_learn import KerasRegressor\n",
    "from sklearn.pipeline import Pipeline\n",
    "from sklearn.model_selection import KFold\n",
    "from sklearn.model_selection import cross_val_score\n",
    "from keras.wrappers.scikit_learn import KerasClassifier"
   ]
  },
  {
   "cell_type": "code",
   "execution_count": null,
   "metadata": {},
   "outputs": [],
   "source": [
    "#model = Sequential()\n",
    "#model.add(Dense(29, input_dim=29, kernel_initializer='normal', activation='relu'))\n",
    "#model.add(Dense(14, kernel_initializer='normal', activation='relu'))\n",
    "#model.add(Dense(1, kernel_initializer='normal'))\n",
    "#model.compile(Adam(lr=0.05), 'mean_squared_error')\n",
    "\n",
    "# define the model\n",
    "def model_builder():\n",
    "# create model\n",
    "\tmodel = Sequential()\n",
    "\tmodel.add(Dense(1, input_dim=29, kernel_initializer='normal', activation='relu'))\n",
    "#model.add(Dense(6, kernel_initializer='normal', activation='relu'))\n",
    "#model.add(Dense(1, kernel_initializer='normal'))\n",
    "# Compile model\n",
    "\tmodel.compile(Adam(lr=0.01), loss='mean_squared_error', metrics=['accuracy'])\n",
    "\treturn model\n"
   ]
  },
  {
   "cell_type": "code",
   "execution_count": null,
   "metadata": {},
   "outputs": [],
   "source": [
    "X = pd.concat([copy[['price_mms', 'rating_count_mms']], dataset_dummies], axis=1).values\n",
    "X.shape"
   ]
  },
  {
   "cell_type": "code",
   "execution_count": null,
   "metadata": {},
   "outputs": [],
   "source": [
    "Y = dataset['user_rating_mms'].values\n",
    "Y.shape\n",
    "Y"
   ]
  },
  {
   "cell_type": "code",
   "execution_count": null,
   "metadata": {},
   "outputs": [],
   "source": [
    "from sklearn.model_selection import train_test_split"
   ]
  },
  {
   "cell_type": "code",
   "execution_count": null,
   "metadata": {},
   "outputs": [],
   "source": [
    "# split the data into train and test with a 20% test size\n"
   ]
  },
  {
   "cell_type": "code",
   "execution_count": null,
   "metadata": {},
   "outputs": [],
   "source": [
    "seed =7\n",
    "np.random.seed(seed)\n",
    "estimators = []\n",
    "estimators.append(('standardize', StandardScaler()))\n",
    "estimators.append(('mlp', KerasRegressor(build_fn=model_builder, epochs=50, batch_size=5, verbose=1)))\n",
    "pipeline = Pipeline(estimators)\n",
    "kfold = KFold(n_splits=10, random_state=seed)\n",
    "results = cross_val_score(pipeline, X_train, Y_train, cv=kfold)\n",
    "print(\"Larger: %.2f (%.2f) MSE\" % (results.mean(), results.std()))\n",
    "\n",
    "\n",
    "\n",
    "#model.fit(X_train, y_train, epochs=400)"
   ]
  },
  {
   "cell_type": "code",
   "execution_count": null,
   "metadata": {},
   "outputs": [],
   "source": [
    "model = Sequential()\n",
    "model.add(Dense(1, input_dim=29, kernel_initializer='normal', activation='relu'))##\n",
    "#model.add(Dense(6, kernel_initializer='normal', activation='relu'))\n",
    "#model.add(Dense(1, kernel_initializer='normal'))\n",
    "# Compile model\n",
    "model.compile(Adam(lr=0.01), loss='mean_squared_error', metrics=['accuracy'])\n",
    "model.fit(X_train, Y_train, epochs=50, verbose=1)\n"
   ]
  },
  {
   "cell_type": "code",
   "execution_count": null,
   "metadata": {},
   "outputs": [],
   "source": [
    "from sklearn.metrics import r2_score\n",
    "from sklearn.metrics import mean_squared_error as mse\n",
    "\n",
    "y_train_pred = model.predict(X_train).ravel()\n",
    "y_test_pred = model.predict(X_test).ravel()\n",
    "\n",
    "print(\"The Mean Squared Error on the Train set is:\\t{:0.1f}\".format(mse(Y_train, y_train_pred)))\n",
    "print(\"The Mean Squared Error on the Test set is:\\t{:0.1f}\".format(mse(Y_test, y_test_pred)))\n",
    "print(\"The R2 score on the Train set is:\\t{:0.3f}\".format(r2_score(Y_train, y_train_pred)))\n",
    "print(\"The R2 score on the Test set is:\\t{:0.3f}\".format(r2_score(Y_test, y_test_pred)))"
   ]
  },
  {
   "cell_type": "code",
   "execution_count": null,
   "metadata": {},
   "outputs": [],
   "source": [
    "model = KerasClassifier(build_fn=model_builder,\n",
    "                        epochs=50,\n",
    "                        verbose=1)\n",
    "cv = KFold(5, shuffle=True)\n",
    "scores = cross_val_score(model, X, Y, cv=cv)\n",
    "print(\"The cross validation accuracy is {:0.4f} ± {:0.4f}\".format(scores.mean(), scores.std()))"
   ]
  },
  {
   "cell_type": "code",
   "execution_count": null,
   "metadata": {},
   "outputs": [],
   "source": []
  },
  {
   "cell_type": "code",
   "execution_count": null,
   "metadata": {},
   "outputs": [],
   "source": []
  },
  {
   "cell_type": "code",
   "execution_count": null,
   "metadata": {},
   "outputs": [],
   "source": []
  }
 ],
 "metadata": {
  "kernelspec": {
   "display_name": "Python 3",
   "language": "python",
   "name": "python3"
  },
  "language_info": {
   "codemirror_mode": {
    "name": "ipython",
    "version": 3
   },
   "file_extension": ".py",
   "mimetype": "text/x-python",
   "name": "python",
   "nbconvert_exporter": "python",
   "pygments_lexer": "ipython3",
   "version": "3.5.6"
  }
 },
 "nbformat": 4,
 "nbformat_minor": 2
}
